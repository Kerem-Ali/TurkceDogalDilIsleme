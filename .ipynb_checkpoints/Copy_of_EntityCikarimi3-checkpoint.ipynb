{
 "cells": [
  {
   "cell_type": "code",
   "execution_count": null,
   "metadata": {
    "colab": {
     "base_uri": "https://localhost:8080/"
    },
    "id": "JNHkeiOasHwA",
    "outputId": "acf638a4-91ae-4848-8350-50542573dccb"
   },
   "outputs": [],
   "source": [
    "!pip install torch torchtext torchcrf pytorch-crf"
   ]
  },
  {
   "cell_type": "code",
   "execution_count": 1,
   "metadata": {
    "colab": {
     "base_uri": "https://localhost:8080/"
    },
    "id": "pDb6ErnwV1Cd",
    "outputId": "9efa037b-c0b5-41f8-b577-5aae48f285b8"
   },
   "outputs": [],
   "source": [
    "#!pip install datasets==2.0.1\n",
    "from datasets import load_dataset, load_from_disk"
   ]
  },
  {
   "cell_type": "code",
   "execution_count": null,
   "metadata": {
    "colab": {
     "base_uri": "https://localhost:8080/"
    },
    "id": "gCIP6_BYx7_b",
    "outputId": "a2f0a12f-b2d1-4a69-9079-9d469a61f576"
   },
   "outputs": [],
   "source": [
    "!pip install neattext"
   ]
  },
  {
   "cell_type": "code",
   "execution_count": null,
   "metadata": {
    "colab": {
     "base_uri": "https://localhost:8080/"
    },
    "id": "hSG8EPKiTCzc",
    "outputId": "e16cb30d-52fe-4c21-aa1f-f32c82e3fe03"
   },
   "outputs": [],
   "source": [
    "pip install pytorch-crf"
   ]
  },
  {
   "cell_type": "code",
   "execution_count": 2,
   "metadata": {
    "colab": {
     "base_uri": "https://localhost:8080/"
    },
    "id": "amUVgu_lOMfi",
    "outputId": "686151b1-b3aa-49f8-ea7a-bdf009fa8ceb"
   },
   "outputs": [
    {
     "name": "stderr",
     "output_type": "stream",
     "text": [
      "Using the latest cached version of the module from /home/server/.cache/huggingface/modules/datasets_modules/datasets/wikiann/4bfd4fe4468ab78bb6e096968f61fab7a888f44f9d3371c2f3fea7e74a5a354e (last modified on Mon Aug  5 08:39:18 2024) since it couldn't be found locally at wikiann., or remotely on the Hugging Face Hub.\n",
      "Reusing dataset wikiann (/home/server/.cache/huggingface/datasets/wikiann/tr/1.1.0/4bfd4fe4468ab78bb6e096968f61fab7a888f44f9d3371c2f3fea7e74a5a354e)\n"
     ]
    },
    {
     "data": {
      "application/vnd.jupyter.widget-view+json": {
       "model_id": "88db63d5ff4c410780f9073f21dbff53",
       "version_major": 2,
       "version_minor": 0
      },
      "text/plain": [
       "  0%|          | 0/3 [00:00<?, ?it/s]"
      ]
     },
     "metadata": {},
     "output_type": "display_data"
    },
    {
     "name": "stdout",
     "output_type": "stream",
     "text": [
      "DatasetDict({\n",
      "    validation: Dataset({\n",
      "        features: ['tokens', 'ner_tags', 'langs', 'spans'],\n",
      "        num_rows: 10000\n",
      "    })\n",
      "    test: Dataset({\n",
      "        features: ['tokens', 'ner_tags', 'langs', 'spans'],\n",
      "        num_rows: 10000\n",
      "    })\n",
      "    train: Dataset({\n",
      "        features: ['tokens', 'ner_tags', 'langs', 'spans'],\n",
      "        num_rows: 20000\n",
      "    })\n",
      "})\n"
     ]
    }
   ],
   "source": [
    "from datasets import load_dataset, load_from_disk\n",
    "\n",
    "\n",
    "# Later, load the dataset from disk\n",
    "dataset = load_dataset(\"wikiann\", \"tr\")\n",
    "\n",
    "# Verify that the dataset is loaded correctly\n",
    "print(dataset)\n"
   ]
  },
  {
   "cell_type": "code",
   "execution_count": 5,
   "metadata": {
    "id": "lTS_RJ54ayLA"
   },
   "outputs": [],
   "source": [
    "import pandas as pd"
   ]
  },
  {
   "cell_type": "code",
   "execution_count": null,
   "metadata": {
    "colab": {
     "base_uri": "https://localhost:8080/"
    },
    "id": "Ai9a70Zga0-L",
    "outputId": "7bc2cfa2-9dd3-4783-9acd-19d814b39121"
   },
   "outputs": [],
   "source": [
    "print(dataset[\"train\"][0])"
   ]
  },
  {
   "cell_type": "code",
   "execution_count": 6,
   "metadata": {
    "id": "2B4pRotWajDD"
   },
   "outputs": [],
   "source": [
    "ner_encoding = {0: \"O\", 1: \"entity\", 2: \"entity\", 3: \"entity\", 4: \"entity\", 5: \"entity\", 6: \"entity\"}\n",
    "\n",
    "\n",
    "train_tokens = []\n",
    "train_tags = []\n",
    "for sample in dataset[\"train\"]:\n",
    "  train_tokens.append(' '.join(sample[\"tokens\"]))\n",
    "  train_tags.append(' '.join([ner_encoding[a] for a in sample[\"ner_tags\"]]))\n",
    "\n",
    "test_tokens = []\n",
    "test_tags = []\n",
    "for sample in dataset[\"train\"]:\n",
    "  test_tokens.append(' '.join(sample[\"tokens\"]))\n",
    "  test_tags.append(' '.join([ner_encoding[a] for a in sample[\"ner_tags\"]]))\n",
    "\n",
    "df_train = pd.DataFrame({\"sentence\": train_tokens, \"tags\": train_tags})\n",
    "df_test = pd.DataFrame({\"sentence\": test_tokens, \"tags\": test_tags})"
   ]
  },
  {
   "cell_type": "code",
   "execution_count": 7,
   "metadata": {
    "id": "AoePlS1jaoOy"
   },
   "outputs": [],
   "source": [
    "ner_encoding = {0: \"O\", 1: \"entity\", 2: \"entity\", 3: \"entity\", 4: \"entity\", 5: \"entity\", 6: \"entity\"}\n",
    "\n",
    "texts = []\n",
    "for sample in dataset[\"train\"]:\n",
    "  texts.append(' '.join(sample[\"tokens\"]))\n",
    "for sample in dataset[\"test\"]:\n",
    "  texts.append(' '.join(sample[\"tokens\"]))\n",
    "\n",
    "labels = []\n",
    "for sample in dataset[\"train\"]:\n",
    "  labels.append([ner_encoding[a] for a in sample[\"ner_tags\"]])\n",
    "for sample in dataset[\"test\"]:\n",
    "  labels.append([ner_encoding[a] for a in sample[\"ner_tags\"]])"
   ]
  },
  {
   "cell_type": "code",
   "execution_count": null,
   "metadata": {
    "colab": {
     "base_uri": "https://localhost:8080/"
    },
    "id": "MvgUxhRoaoRI",
    "outputId": "81ff1f04-2de4-414a-aa01-01e708c3365a"
   },
   "outputs": [],
   "source": []
  },
  {
   "cell_type": "code",
   "execution_count": null,
   "metadata": {
    "id": "drVUSyDiaoTf"
   },
   "outputs": [],
   "source": [
    "pip install TorchCRF"
   ]
  },
  {
   "cell_type": "code",
   "execution_count": null,
   "metadata": {
    "id": "WeI6BMRRaoWG"
   },
   "outputs": [],
   "source": [
    "pip install torchcrf"
   ]
  },
  {
   "cell_type": "code",
   "execution_count": null,
   "metadata": {
    "id": "Vf-KZjeJaoYK"
   },
   "outputs": [],
   "source": [
    "from TorchCRF import CRF"
   ]
  },
  {
   "cell_type": "code",
   "execution_count": null,
   "metadata": {},
   "outputs": [],
   "source": []
  },
  {
   "cell_type": "code",
   "execution_count": 8,
   "metadata": {},
   "outputs": [
    {
     "name": "stdout",
     "output_type": "stream",
     "text": [
      "Epoch 1/3000, Loss: 3.9943\n",
      "Epoch 2/3000, Loss: 2.1201\n",
      "Epoch 3/3000, Loss: 1.3798\n",
      "Epoch 4/3000, Loss: 1.0606\n",
      "Epoch 5/3000, Loss: 0.9067\n",
      "Epoch 6/3000, Loss: 0.8223\n",
      "Epoch 7/3000, Loss: 0.7709\n",
      "Epoch 8/3000, Loss: 0.7390\n",
      "Epoch 9/3000, Loss: 0.7213\n",
      "Epoch 10/3000, Loss: 0.7043\n",
      "Epoch 11/3000, Loss: 0.6883\n",
      "Epoch 12/3000, Loss: 0.6781\n",
      "Epoch 13/3000, Loss: 0.6775\n",
      "Epoch 14/3000, Loss: 0.6670\n",
      "Epoch 15/3000, Loss: 0.6641\n",
      "Epoch 16/3000, Loss: 0.6574\n",
      "Epoch 17/3000, Loss: 0.6589\n",
      "Epoch 18/3000, Loss: 0.6606\n",
      "Epoch 19/3000, Loss: 0.6534\n",
      "Epoch 20/3000, Loss: 0.6503\n",
      "Epoch 21/3000, Loss: 0.6515\n",
      "Epoch 22/3000, Loss: 0.6546\n",
      "Epoch 23/3000, Loss: 0.6524\n"
     ]
    },
    {
     "ename": "KeyboardInterrupt",
     "evalue": "",
     "output_type": "error",
     "traceback": [
      "\u001b[0;31m---------------------------------------------------------------------------\u001b[0m",
      "\u001b[0;31mKeyboardInterrupt\u001b[0m                         Traceback (most recent call last)",
      "Cell \u001b[0;32mIn[8], line 98\u001b[0m\n\u001b[1;32m     96\u001b[0m optimizer\u001b[38;5;241m.\u001b[39mzero_grad()\n\u001b[1;32m     97\u001b[0m loss \u001b[38;5;241m=\u001b[39m model(inputs, targets)\n\u001b[0;32m---> 98\u001b[0m \u001b[43mloss\u001b[49m\u001b[38;5;241;43m.\u001b[39;49m\u001b[43mbackward\u001b[49m\u001b[43m(\u001b[49m\u001b[43m)\u001b[49m\n\u001b[1;32m     99\u001b[0m optimizer\u001b[38;5;241m.\u001b[39mstep()\n\u001b[1;32m    100\u001b[0m total_loss \u001b[38;5;241m+\u001b[39m\u001b[38;5;241m=\u001b[39m loss\u001b[38;5;241m.\u001b[39mitem()\n",
      "File \u001b[0;32m~/venv/lib/python3.12/site-packages/torch/_tensor.py:521\u001b[0m, in \u001b[0;36mTensor.backward\u001b[0;34m(self, gradient, retain_graph, create_graph, inputs)\u001b[0m\n\u001b[1;32m    511\u001b[0m \u001b[38;5;28;01mif\u001b[39;00m has_torch_function_unary(\u001b[38;5;28mself\u001b[39m):\n\u001b[1;32m    512\u001b[0m     \u001b[38;5;28;01mreturn\u001b[39;00m handle_torch_function(\n\u001b[1;32m    513\u001b[0m         Tensor\u001b[38;5;241m.\u001b[39mbackward,\n\u001b[1;32m    514\u001b[0m         (\u001b[38;5;28mself\u001b[39m,),\n\u001b[0;32m   (...)\u001b[0m\n\u001b[1;32m    519\u001b[0m         inputs\u001b[38;5;241m=\u001b[39minputs,\n\u001b[1;32m    520\u001b[0m     )\n\u001b[0;32m--> 521\u001b[0m \u001b[43mtorch\u001b[49m\u001b[38;5;241;43m.\u001b[39;49m\u001b[43mautograd\u001b[49m\u001b[38;5;241;43m.\u001b[39;49m\u001b[43mbackward\u001b[49m\u001b[43m(\u001b[49m\n\u001b[1;32m    522\u001b[0m \u001b[43m    \u001b[49m\u001b[38;5;28;43mself\u001b[39;49m\u001b[43m,\u001b[49m\u001b[43m \u001b[49m\u001b[43mgradient\u001b[49m\u001b[43m,\u001b[49m\u001b[43m \u001b[49m\u001b[43mretain_graph\u001b[49m\u001b[43m,\u001b[49m\u001b[43m \u001b[49m\u001b[43mcreate_graph\u001b[49m\u001b[43m,\u001b[49m\u001b[43m \u001b[49m\u001b[43minputs\u001b[49m\u001b[38;5;241;43m=\u001b[39;49m\u001b[43minputs\u001b[49m\n\u001b[1;32m    523\u001b[0m \u001b[43m\u001b[49m\u001b[43m)\u001b[49m\n",
      "File \u001b[0;32m~/venv/lib/python3.12/site-packages/torch/autograd/__init__.py:289\u001b[0m, in \u001b[0;36mbackward\u001b[0;34m(tensors, grad_tensors, retain_graph, create_graph, grad_variables, inputs)\u001b[0m\n\u001b[1;32m    284\u001b[0m     retain_graph \u001b[38;5;241m=\u001b[39m create_graph\n\u001b[1;32m    286\u001b[0m \u001b[38;5;66;03m# The reason we repeat the same comment below is that\u001b[39;00m\n\u001b[1;32m    287\u001b[0m \u001b[38;5;66;03m# some Python versions print out the first line of a multi-line function\u001b[39;00m\n\u001b[1;32m    288\u001b[0m \u001b[38;5;66;03m# calls in the traceback and some print out the last line\u001b[39;00m\n\u001b[0;32m--> 289\u001b[0m \u001b[43m_engine_run_backward\u001b[49m\u001b[43m(\u001b[49m\n\u001b[1;32m    290\u001b[0m \u001b[43m    \u001b[49m\u001b[43mtensors\u001b[49m\u001b[43m,\u001b[49m\n\u001b[1;32m    291\u001b[0m \u001b[43m    \u001b[49m\u001b[43mgrad_tensors_\u001b[49m\u001b[43m,\u001b[49m\n\u001b[1;32m    292\u001b[0m \u001b[43m    \u001b[49m\u001b[43mretain_graph\u001b[49m\u001b[43m,\u001b[49m\n\u001b[1;32m    293\u001b[0m \u001b[43m    \u001b[49m\u001b[43mcreate_graph\u001b[49m\u001b[43m,\u001b[49m\n\u001b[1;32m    294\u001b[0m \u001b[43m    \u001b[49m\u001b[43minputs\u001b[49m\u001b[43m,\u001b[49m\n\u001b[1;32m    295\u001b[0m \u001b[43m    \u001b[49m\u001b[43mallow_unreachable\u001b[49m\u001b[38;5;241;43m=\u001b[39;49m\u001b[38;5;28;43;01mTrue\u001b[39;49;00m\u001b[43m,\u001b[49m\n\u001b[1;32m    296\u001b[0m \u001b[43m    \u001b[49m\u001b[43maccumulate_grad\u001b[49m\u001b[38;5;241;43m=\u001b[39;49m\u001b[38;5;28;43;01mTrue\u001b[39;49;00m\u001b[43m,\u001b[49m\n\u001b[1;32m    297\u001b[0m \u001b[43m\u001b[49m\u001b[43m)\u001b[49m\n",
      "File \u001b[0;32m~/venv/lib/python3.12/site-packages/torch/autograd/graph.py:768\u001b[0m, in \u001b[0;36m_engine_run_backward\u001b[0;34m(t_outputs, *args, **kwargs)\u001b[0m\n\u001b[1;32m    766\u001b[0m     unregister_hooks \u001b[38;5;241m=\u001b[39m _register_logging_hooks_on_whole_graph(t_outputs)\n\u001b[1;32m    767\u001b[0m \u001b[38;5;28;01mtry\u001b[39;00m:\n\u001b[0;32m--> 768\u001b[0m     \u001b[38;5;28;01mreturn\u001b[39;00m \u001b[43mVariable\u001b[49m\u001b[38;5;241;43m.\u001b[39;49m\u001b[43m_execution_engine\u001b[49m\u001b[38;5;241;43m.\u001b[39;49m\u001b[43mrun_backward\u001b[49m\u001b[43m(\u001b[49m\u001b[43m  \u001b[49m\u001b[38;5;66;43;03m# Calls into the C++ engine to run the backward pass\u001b[39;49;00m\n\u001b[1;32m    769\u001b[0m \u001b[43m        \u001b[49m\u001b[43mt_outputs\u001b[49m\u001b[43m,\u001b[49m\u001b[43m \u001b[49m\u001b[38;5;241;43m*\u001b[39;49m\u001b[43margs\u001b[49m\u001b[43m,\u001b[49m\u001b[43m \u001b[49m\u001b[38;5;241;43m*\u001b[39;49m\u001b[38;5;241;43m*\u001b[39;49m\u001b[43mkwargs\u001b[49m\n\u001b[1;32m    770\u001b[0m \u001b[43m    \u001b[49m\u001b[43m)\u001b[49m  \u001b[38;5;66;03m# Calls into the C++ engine to run the backward pass\u001b[39;00m\n\u001b[1;32m    771\u001b[0m \u001b[38;5;28;01mfinally\u001b[39;00m:\n\u001b[1;32m    772\u001b[0m     \u001b[38;5;28;01mif\u001b[39;00m attach_logging_hooks:\n",
      "\u001b[0;31mKeyboardInterrupt\u001b[0m: "
     ]
    }
   ],
   "source": [
    "import torch\n",
    "from torch.utils.data import Dataset, DataLoader\n",
    "import torch.nn as nn\n",
    "from torchcrf import CRF\n",
    "\n",
    "# Define NERDataset class\n",
    "class NERDataset(Dataset):\n",
    "    def __init__(self, texts, labels, vocab, tag_to_idx):\n",
    "        self.texts = texts\n",
    "        self.labels = labels\n",
    "        self.vocab = vocab\n",
    "        self.tag_to_idx = tag_to_idx\n",
    "\n",
    "    def __len__(self):\n",
    "        return len(self.texts)\n",
    "\n",
    "    def __getitem__(self, idx):\n",
    "        text = [self.vocab.get(word, self.vocab['<UNK>']) for word in self.texts[idx].split()]\n",
    "        labels = [self.tag_to_idx[tag] for tag in self.labels[idx]]\n",
    "        return torch.tensor(text, dtype=torch.long), torch.tensor(labels, dtype=torch.long)\n",
    "\n",
    "# Define BiLSTM_CRF model class\n",
    "class BiLSTM_CRF(nn.Module):\n",
    "    def __init__(self, vocab_size, tag_to_idx, embedding_dim=200, hidden_dim=256):\n",
    "        super(BiLSTM_CRF, self).__init__()\n",
    "        self.embedding_dim = embedding_dim\n",
    "        self.hidden_dim = hidden_dim\n",
    "        self.vocab_size = vocab_size\n",
    "        self.tag_to_idx = tag_to_idx\n",
    "        self.tagset_size = len(tag_to_idx)\n",
    "\n",
    "        self.word_embeddings = nn.Embedding(vocab_size, embedding_dim)\n",
    "        self.lstm = nn.LSTM(embedding_dim, hidden_dim // 2, num_layers=2, bidirectional=True, dropout=0.5)\n",
    "        self.hidden2tag = nn.Linear(hidden_dim, self.tagset_size)\n",
    "        self.crf = CRF(self.tagset_size, batch_first=True)\n",
    "\n",
    "    def forward(self, sentence, tags=None):\n",
    "        embedded = self.word_embeddings(sentence)\n",
    "        lstm_out, _ = self.lstm(embedded)\n",
    "        tag_scores = self.hidden2tag(lstm_out)\n",
    "\n",
    "        if tags is not None:\n",
    "            mask = (sentence != 0).bool()\n",
    "            loss = -self.crf(tag_scores, tags, mask=mask)\n",
    "            return loss\n",
    "        else:\n",
    "            best_tags = self.crf.decode(tag_scores)\n",
    "            return best_tags\n",
    "\n",
    "# Prepare data\n",
    "def prepare_data(texts, labels):\n",
    "    vocab = {'<PAD>': 0, '<UNK>': 1}\n",
    "    tag_to_idx = {'O': 0, 'entity': 1}\n",
    "\n",
    "    for text in texts:\n",
    "        for word in text.split():\n",
    "            if word not in vocab:\n",
    "                vocab[word] = len(vocab)\n",
    "\n",
    "    return vocab, tag_to_idx\n",
    "\n",
    "# Collate function for DataLoader\n",
    "def collate_fn(batch):\n",
    "    texts, labels = zip(*batch)\n",
    "    max_len = max(len(x) for x in texts)\n",
    "    padded_texts = [torch.cat([x, torch.zeros(max_len - len(x), dtype=torch.long)]) for x in texts]\n",
    "    padded_labels = [torch.cat([y, torch.zeros(max_len - len(y), dtype=torch.long)]) for y in labels]\n",
    "    return torch.stack(padded_texts), torch.stack(padded_labels)\n",
    "\n",
    "# Example data (texts and labels should be extended with more diverse data)\n",
    "\n",
    "\n",
    "# Check and align lengths of texts and labels\n",
    "for i in range(len(texts)):\n",
    "    text_length = len(texts[i].split())\n",
    "    label_length = len(labels[i])\n",
    "    if text_length != label_length:\n",
    "        raise ValueError(f\"Text and label lengths do not match at index {i}: {text_length} != {label_length}\")\n",
    "\n",
    "# Prepare vocabulary and tag_to_idx\n",
    "vocab, tag_to_idx = prepare_data(texts, labels)\n",
    "dataset = NERDataset(texts, labels, vocab, tag_to_idx)\n",
    "dataloader = DataLoader(dataset, batch_size=2, shuffle=True, collate_fn=collate_fn)\n",
    "\n",
    "# Initialize model, optimizer, and device\n",
    "device = torch.device(\"cuda\" if torch.cuda.is_available() else \"cpu\")\n",
    "model = BiLSTM_CRF(len(vocab), tag_to_idx, embedding_dim=400, hidden_dim=512).to(device)\n",
    "optimizer = torch.optim.Adam(model.parameters(), lr=5e-4)  # Adjusted learning rate\n",
    "\n",
    "# Training loop\n",
    "num_epochs = 3000\n",
    "for epoch in range(num_epochs):\n",
    "    total_loss = 0\n",
    "    for inputs, targets in dataloader:\n",
    "        inputs, targets = inputs.to(device), targets.to(device)\n",
    "        optimizer.zero_grad()\n",
    "        loss = model(inputs, targets)\n",
    "        loss.backward()\n",
    "        optimizer.step()\n",
    "        total_loss += loss.item()\n",
    "    print(f\"Epoch {epoch+1}/{num_epochs}, Loss: {total_loss/len(dataloader):.4f}\")\n",
    "\n",
    "# Test sentence\n",
    "test_sentence = \"benim şirketim kazanacaktır, onun adı da turkcell\"\n",
    "test_tensor = torch.tensor([vocab.get(word, vocab['<UNK>']) for word in test_sentence.split()], dtype=torch.long).to(device)\n",
    "with torch.no_grad():\n",
    "    best_tags = model(test_tensor.unsqueeze(0))[0]\n",
    "\n",
    "idx_to_tag = {i: tag for tag, i in tag_to_idx.items()}\n",
    "predicted_labels = [idx_to_tag[i] for i in best_tags]\n",
    "print(\"Test cümlesi:\", test_sentence)\n",
    "print(\"Tahmin edilen etiketler:\", predicted_labels)"
   ]
  },
  {
   "cell_type": "code",
   "execution_count": 13,
   "metadata": {},
   "outputs": [
    {
     "name": "stdout",
     "output_type": "stream",
     "text": [
      "Epoch 1/3000, Loss: 4.3145\n",
      "Epoch 2/3000, Loss: 2.1787\n",
      "Epoch 3/3000, Loss: 1.4440\n",
      "Epoch 4/3000, Loss: 1.1259\n",
      "Epoch 5/3000, Loss: 0.9655\n",
      "Epoch 6/3000, Loss: 0.8684\n",
      "Epoch 7/3000, Loss: 0.8046\n",
      "Epoch 8/3000, Loss: 0.7610\n",
      "Epoch 9/3000, Loss: 0.7343\n",
      "Epoch 10/3000, Loss: 0.7135\n",
      "Epoch 11/3000, Loss: 0.7045\n",
      "Epoch 12/3000, Loss: 0.6908\n",
      "Epoch 13/3000, Loss: 0.6814\n",
      "Epoch 14/3000, Loss: 0.6717\n",
      "Epoch 15/3000, Loss: 0.6650\n",
      "Epoch 16/3000, Loss: 0.6602\n",
      "Epoch 17/3000, Loss: 0.6555\n",
      "Epoch 18/3000, Loss: 0.6530\n",
      "Epoch 19/3000, Loss: 0.6459\n",
      "Epoch 20/3000, Loss: 0.6454\n",
      "Epoch 21/3000, Loss: 0.6408\n",
      "Epoch 22/3000, Loss: 0.6379\n",
      "Epoch 23/3000, Loss: 0.6361\n",
      "Epoch 24/3000, Loss: 0.6364\n",
      "Epoch 25/3000, Loss: 0.6313\n",
      "Epoch 26/3000, Loss: 0.6300\n",
      "Epoch 27/3000, Loss: 0.6241\n",
      "Epoch 28/3000, Loss: 0.6255\n",
      "Epoch 29/3000, Loss: 0.6262\n",
      "Epoch 30/3000, Loss: 0.6227\n",
      "Epoch 31/3000, Loss: 0.6222\n",
      "Epoch 32/3000, Loss: 0.6175\n",
      "Epoch 33/3000, Loss: 0.6176\n",
      "Epoch 34/3000, Loss: 0.6204\n",
      "Epoch 35/3000, Loss: 0.6140\n",
      "Epoch 36/3000, Loss: 0.6139\n",
      "Epoch 37/3000, Loss: 0.6103\n",
      "Epoch 38/3000, Loss: 0.6209\n",
      "Epoch 39/3000, Loss: 0.6165\n",
      "Epoch 40/3000, Loss: 0.6144\n",
      "Epoch 41/3000, Loss: 0.6141\n",
      "Epoch 42/3000, Loss: 0.6139\n",
      "Epoch 43/3000, Loss: 0.6142\n",
      "Epoch 44/3000, Loss: 0.6105\n",
      "Epoch 45/3000, Loss: 0.6130\n",
      "Epoch 46/3000, Loss: 0.6122\n",
      "Epoch 47/3000, Loss: 0.6104\n",
      "Epoch 48/3000, Loss: 0.6111\n",
      "Epoch 49/3000, Loss: 0.6086\n",
      "Epoch 50/3000, Loss: 0.6135\n",
      "Epoch 51/3000, Loss: 0.6089\n",
      "Epoch 52/3000, Loss: 0.6117\n",
      "Epoch 53/3000, Loss: 0.6115\n",
      "Epoch 54/3000, Loss: 0.6156\n",
      "Epoch 55/3000, Loss: 0.6134\n",
      "Epoch 56/3000, Loss: 0.6104\n",
      "Epoch 57/3000, Loss: 0.6094\n",
      "Epoch 58/3000, Loss: 0.6078\n",
      "Epoch 59/3000, Loss: 0.6107\n",
      "Epoch 60/3000, Loss: 0.6074\n",
      "Epoch 61/3000, Loss: 0.6098\n",
      "Epoch 62/3000, Loss: 0.6079\n",
      "Epoch 63/3000, Loss: 0.6056\n",
      "Epoch 64/3000, Loss: 0.6077\n",
      "Epoch 65/3000, Loss: 0.6115\n",
      "Epoch 66/3000, Loss: 0.6072\n",
      "Epoch 67/3000, Loss: 0.6074\n",
      "Epoch 68/3000, Loss: 0.6082\n",
      "Epoch 69/3000, Loss: 0.6077\n",
      "Epoch 70/3000, Loss: 0.6087\n",
      "Epoch 71/3000, Loss: 0.6093\n",
      "Epoch 72/3000, Loss: 0.6068\n",
      "Epoch 73/3000, Loss: 0.6068\n",
      "Epoch 74/3000, Loss: 0.6059\n",
      "Epoch 75/3000, Loss: 0.6070\n",
      "Epoch 76/3000, Loss: 0.6123\n",
      "Epoch 77/3000, Loss: 0.6049\n",
      "Epoch 78/3000, Loss: 0.6060\n",
      "Epoch 79/3000, Loss: 0.6044\n",
      "Epoch 80/3000, Loss: 0.6078\n",
      "Epoch 81/3000, Loss: 0.6034\n",
      "Epoch 82/3000, Loss: 0.6062\n",
      "Epoch 83/3000, Loss: 0.6049\n",
      "Epoch 84/3000, Loss: 0.6040\n",
      "Epoch 85/3000, Loss: 0.6101\n",
      "Epoch 86/3000, Loss: 0.6097\n",
      "Epoch 87/3000, Loss: 0.6129\n",
      "Epoch 88/3000, Loss: 0.6098\n",
      "Epoch 89/3000, Loss: 0.6019\n",
      "Epoch 90/3000, Loss: 0.6054\n",
      "Epoch 91/3000, Loss: 0.6064\n",
      "Epoch 92/3000, Loss: 0.6057\n",
      "Epoch 93/3000, Loss: 0.6087\n",
      "Epoch 94/3000, Loss: 0.6093\n",
      "Epoch 95/3000, Loss: 0.6056\n",
      "Epoch 96/3000, Loss: 0.6020\n",
      "Epoch 97/3000, Loss: 0.6071\n",
      "Epoch 98/3000, Loss: 0.6022\n",
      "Epoch 99/3000, Loss: 0.6059\n",
      "Epoch 100/3000, Loss: 0.6047\n",
      "Epoch 101/3000, Loss: 0.6042\n",
      "Epoch 102/3000, Loss: 0.6040\n",
      "Epoch 103/3000, Loss: 0.6037\n",
      "Epoch 104/3000, Loss: 0.6040\n",
      "Epoch 105/3000, Loss: 0.6023\n",
      "Epoch 106/3000, Loss: 0.6086\n",
      "Epoch 107/3000, Loss: 0.6056\n",
      "Epoch 108/3000, Loss: 0.6011\n",
      "Epoch 109/3000, Loss: 0.6051\n",
      "Epoch 110/3000, Loss: 0.6080\n",
      "Epoch 111/3000, Loss: 0.6088\n",
      "Epoch 112/3000, Loss: 0.6041\n",
      "Epoch 113/3000, Loss: 0.6031\n",
      "Epoch 114/3000, Loss: 0.6024\n",
      "Epoch 115/3000, Loss: 0.6064\n",
      "Epoch 116/3000, Loss: 0.6010\n",
      "Epoch 117/3000, Loss: 0.6028\n",
      "Epoch 118/3000, Loss: 0.6030\n",
      "Epoch 119/3000, Loss: 0.5991\n",
      "Epoch 120/3000, Loss: 0.6060\n",
      "Epoch 121/3000, Loss: 0.6065\n",
      "Epoch 122/3000, Loss: 0.6063\n",
      "Epoch 123/3000, Loss: 0.6055\n",
      "Epoch 124/3000, Loss: 0.6067\n",
      "Epoch 125/3000, Loss: 0.5985\n",
      "Epoch 126/3000, Loss: 0.6026\n",
      "Epoch 127/3000, Loss: 0.6013\n",
      "Epoch 128/3000, Loss: 0.6108\n",
      "Epoch 129/3000, Loss: 0.6013\n",
      "Epoch 130/3000, Loss: 0.6035\n",
      "Epoch 131/3000, Loss: 0.6003\n",
      "Epoch 132/3000, Loss: 0.6030\n",
      "Epoch 133/3000, Loss: 0.6052\n",
      "Epoch 134/3000, Loss: 0.6069\n",
      "Epoch 135/3000, Loss: 0.5997\n",
      "Epoch 136/3000, Loss: 0.6034\n",
      "Epoch 137/3000, Loss: 0.6001\n",
      "Epoch 138/3000, Loss: 0.6071\n",
      "Epoch 139/3000, Loss: 0.6050\n",
      "Epoch 140/3000, Loss: 0.6012\n",
      "Epoch 141/3000, Loss: 0.6029\n",
      "Epoch 142/3000, Loss: 0.6049\n",
      "Epoch 143/3000, Loss: 0.6032\n",
      "Epoch 144/3000, Loss: 0.6056\n",
      "Epoch 145/3000, Loss: 0.6051\n",
      "Epoch 146/3000, Loss: 0.6036\n",
      "Epoch 147/3000, Loss: 0.6021\n",
      "Epoch 148/3000, Loss: 0.6083\n",
      "Epoch 149/3000, Loss: 0.5998\n",
      "Epoch 150/3000, Loss: 0.6083\n",
      "Epoch 151/3000, Loss: 0.6042\n",
      "Epoch 152/3000, Loss: 0.6079\n",
      "Epoch 153/3000, Loss: 0.6013\n",
      "Epoch 154/3000, Loss: 0.6066\n",
      "Epoch 155/3000, Loss: 0.6068\n",
      "Epoch 156/3000, Loss: 0.6045\n",
      "Epoch 157/3000, Loss: 0.6022\n",
      "Epoch 158/3000, Loss: 0.6059\n",
      "Epoch 159/3000, Loss: 0.5990\n",
      "Epoch 160/3000, Loss: 0.6042\n",
      "Epoch 161/3000, Loss: 0.6057\n",
      "Epoch 162/3000, Loss: 0.6008\n",
      "Epoch 163/3000, Loss: 0.5997\n",
      "Epoch 164/3000, Loss: 0.6058\n",
      "Epoch 165/3000, Loss: 0.6005\n",
      "Epoch 166/3000, Loss: 0.6004\n",
      "Epoch 167/3000, Loss: 0.6021\n",
      "Epoch 168/3000, Loss: 0.6042\n",
      "Epoch 169/3000, Loss: 0.6066\n",
      "Epoch 170/3000, Loss: 0.6005\n",
      "Epoch 171/3000, Loss: 0.6056\n",
      "Epoch 172/3000, Loss: 0.6056\n",
      "Epoch 173/3000, Loss: 0.6030\n",
      "Epoch 174/3000, Loss: 0.6012\n",
      "Epoch 175/3000, Loss: 0.6063\n",
      "Epoch 176/3000, Loss: 0.6060\n",
      "Epoch 177/3000, Loss: 0.5998\n",
      "Epoch 178/3000, Loss: 0.6023\n",
      "Epoch 179/3000, Loss: 0.6051\n",
      "Epoch 180/3000, Loss: 0.6028\n",
      "Epoch 181/3000, Loss: 0.6061\n",
      "Epoch 182/3000, Loss: 0.6018\n",
      "Epoch 183/3000, Loss: 0.6040\n",
      "Epoch 184/3000, Loss: 0.6068\n",
      "Epoch 185/3000, Loss: 0.6015\n",
      "Epoch 186/3000, Loss: 0.6014\n",
      "Epoch 187/3000, Loss: 0.6026\n",
      "Epoch 188/3000, Loss: 0.6056\n",
      "Epoch 189/3000, Loss: 0.6083\n",
      "Epoch 190/3000, Loss: 0.6009\n",
      "Epoch 191/3000, Loss: 0.6037\n",
      "Epoch 192/3000, Loss: 0.6052\n",
      "Epoch 193/3000, Loss: 0.6029\n",
      "Epoch 194/3000, Loss: 0.6018\n",
      "Epoch 195/3000, Loss: 0.6034\n",
      "Epoch 196/3000, Loss: 0.6023\n",
      "Epoch 197/3000, Loss: 0.6076\n",
      "Epoch 198/3000, Loss: 0.6015\n",
      "Epoch 199/3000, Loss: 0.6034\n",
      "Epoch 200/3000, Loss: 0.6009\n",
      "Epoch 201/3000, Loss: 0.6045\n",
      "Epoch 202/3000, Loss: 0.6066\n",
      "Epoch 203/3000, Loss: 0.6059\n",
      "Epoch 204/3000, Loss: 0.6046\n",
      "Epoch 205/3000, Loss: 0.6015\n",
      "Epoch 206/3000, Loss: 0.6046\n",
      "Epoch 207/3000, Loss: 0.6046\n",
      "Epoch 208/3000, Loss: 0.6047\n",
      "Epoch 209/3000, Loss: 0.6027\n",
      "Epoch 210/3000, Loss: 0.6035\n",
      "Epoch 211/3000, Loss: 0.5985\n",
      "Epoch 212/3000, Loss: 0.6062\n",
      "Epoch 213/3000, Loss: 0.6014\n",
      "Epoch 214/3000, Loss: 0.5991\n",
      "Epoch 215/3000, Loss: 0.6040\n",
      "Epoch 216/3000, Loss: 0.6024\n",
      "Epoch 217/3000, Loss: 0.6035\n",
      "Epoch 218/3000, Loss: 0.6038\n",
      "Epoch 219/3000, Loss: 0.6033\n",
      "Epoch 220/3000, Loss: 0.6030\n",
      "Epoch 221/3000, Loss: 0.6022\n",
      "Epoch 222/3000, Loss: 0.6026\n",
      "Epoch 223/3000, Loss: 0.6030\n",
      "Epoch 224/3000, Loss: 0.6035\n",
      "Epoch 225/3000, Loss: 0.6044\n",
      "Epoch 226/3000, Loss: 0.6046\n",
      "Epoch 227/3000, Loss: 0.6039\n",
      "Epoch 228/3000, Loss: 0.6067\n",
      "Epoch 229/3000, Loss: 0.6053\n",
      "Epoch 230/3000, Loss: 0.6030\n",
      "Epoch 231/3000, Loss: 0.6013\n",
      "Epoch 232/3000, Loss: 0.6055\n",
      "Epoch 233/3000, Loss: 0.6013\n",
      "Epoch 234/3000, Loss: 0.6022\n",
      "Epoch 235/3000, Loss: 0.6064\n",
      "Epoch 236/3000, Loss: 0.6033\n",
      "Epoch 237/3000, Loss: 0.6001\n",
      "Epoch 238/3000, Loss: 0.6030\n",
      "Epoch 239/3000, Loss: 0.6021\n",
      "Epoch 240/3000, Loss: 0.6023\n",
      "Epoch 241/3000, Loss: 0.6071\n",
      "Epoch 242/3000, Loss: 0.6011\n",
      "Epoch 243/3000, Loss: 0.6041\n",
      "Epoch 244/3000, Loss: 0.6097\n",
      "Epoch 245/3000, Loss: 0.6014\n",
      "Epoch 246/3000, Loss: 0.6015\n",
      "Epoch 247/3000, Loss: 0.6030\n",
      "Epoch 248/3000, Loss: 0.6041\n",
      "Epoch 249/3000, Loss: 0.6060\n",
      "Epoch 250/3000, Loss: 0.6059\n",
      "Epoch 251/3000, Loss: 0.6034\n",
      "Epoch 252/3000, Loss: 0.6088\n",
      "Epoch 253/3000, Loss: 0.6056\n",
      "Epoch 254/3000, Loss: 0.6063\n",
      "Epoch 255/3000, Loss: 0.6058\n",
      "Epoch 256/3000, Loss: 0.6010\n",
      "Epoch 257/3000, Loss: 0.6049\n",
      "Epoch 258/3000, Loss: 0.6092\n",
      "Epoch 259/3000, Loss: 0.6057\n",
      "Epoch 260/3000, Loss: 0.5996\n",
      "Epoch 261/3000, Loss: 0.6066\n",
      "Epoch 262/3000, Loss: 0.6032\n",
      "Epoch 263/3000, Loss: 0.6043\n",
      "Epoch 264/3000, Loss: 0.6096\n",
      "Epoch 265/3000, Loss: 0.6045\n",
      "Epoch 266/3000, Loss: 0.6077\n",
      "Epoch 267/3000, Loss: 0.6104\n",
      "Epoch 268/3000, Loss: 0.6038\n"
     ]
    },
    {
     "ename": "KeyboardInterrupt",
     "evalue": "",
     "output_type": "error",
     "traceback": [
      "\u001b[0;31m---------------------------------------------------------------------------\u001b[0m",
      "\u001b[0;31mKeyboardInterrupt\u001b[0m                         Traceback (most recent call last)",
      "Cell \u001b[0;32mIn[13], line 100\u001b[0m\n\u001b[1;32m     98\u001b[0m         loss\u001b[38;5;241m.\u001b[39mbackward()\n\u001b[1;32m     99\u001b[0m         optimizer\u001b[38;5;241m.\u001b[39mstep()\n\u001b[0;32m--> 100\u001b[0m         total_loss \u001b[38;5;241m+\u001b[39m\u001b[38;5;241m=\u001b[39m \u001b[43mloss\u001b[49m\u001b[38;5;241;43m.\u001b[39;49m\u001b[43mitem\u001b[49m\u001b[43m(\u001b[49m\u001b[43m)\u001b[49m\n\u001b[1;32m    101\u001b[0m     \u001b[38;5;28mprint\u001b[39m(\u001b[38;5;124mf\u001b[39m\u001b[38;5;124m\"\u001b[39m\u001b[38;5;124mEpoch \u001b[39m\u001b[38;5;132;01m{\u001b[39;00mepoch\u001b[38;5;241m+\u001b[39m\u001b[38;5;241m1\u001b[39m\u001b[38;5;132;01m}\u001b[39;00m\u001b[38;5;124m/\u001b[39m\u001b[38;5;132;01m{\u001b[39;00mnum_epochs\u001b[38;5;132;01m}\u001b[39;00m\u001b[38;5;124m, Loss: \u001b[39m\u001b[38;5;132;01m{\u001b[39;00mtotal_loss\u001b[38;5;241m/\u001b[39m\u001b[38;5;28mlen\u001b[39m(dataloader)\u001b[38;5;132;01m:\u001b[39;00m\u001b[38;5;124m.4f\u001b[39m\u001b[38;5;132;01m}\u001b[39;00m\u001b[38;5;124m\"\u001b[39m)\n\u001b[1;32m    103\u001b[0m \u001b[38;5;66;03m# Test sentence\u001b[39;00m\n",
      "\u001b[0;31mKeyboardInterrupt\u001b[0m: "
     ]
    }
   ],
   "source": [
    "import torch\n",
    "from torch.utils.data import Dataset, DataLoader\n",
    "import torch.nn as nn\n",
    "from torchcrf import CRF\n",
    "\n",
    "# Define NERDataset class\n",
    "class NERDataset(Dataset):\n",
    "    def __init__(self, texts, labels, vocab, tag_to_idx):\n",
    "        self.texts = texts\n",
    "        self.labels = labels\n",
    "        self.vocab = vocab\n",
    "        self.tag_to_idx = tag_to_idx\n",
    "\n",
    "    def __len__(self):\n",
    "        return len(self.texts)\n",
    "\n",
    "    def __getitem__(self, idx):\n",
    "        text = [self.vocab.get(word, self.vocab['<UNK>']) for word in self.texts[idx].split()]\n",
    "        labels = [self.tag_to_idx[tag] for tag in self.labels[idx]]\n",
    "        return torch.tensor(text, dtype=torch.long), torch.tensor(labels, dtype=torch.long)\n",
    "\n",
    "# Define BiLSTM_CRF model class\n",
    "class BiLSTM_CRF(nn.Module):\n",
    "    def __init__(self, vocab_size, tag_to_idx, embedding_dim=200, hidden_dim=256):\n",
    "        super(BiLSTM_CRF, self).__init__()\n",
    "        self.embedding_dim = embedding_dim\n",
    "        self.hidden_dim = hidden_dim\n",
    "        self.vocab_size = vocab_size\n",
    "        self.tag_to_idx = tag_to_idx\n",
    "        self.tagset_size = len(tag_to_idx)\n",
    "\n",
    "        self.word_embeddings = nn.Embedding(vocab_size, embedding_dim)\n",
    "        self.lstm = nn.LSTM(embedding_dim, hidden_dim // 2, num_layers=2, bidirectional=True, dropout=0.5)\n",
    "        self.hidden2tag = nn.Linear(hidden_dim, self.tagset_size)\n",
    "        self.crf = CRF(self.tagset_size, batch_first=True)\n",
    "\n",
    "    def forward(self, sentence, tags=None):\n",
    "        embedded = self.word_embeddings(sentence)\n",
    "        lstm_out, _ = self.lstm(embedded)\n",
    "        tag_scores = self.hidden2tag(lstm_out)\n",
    "\n",
    "        if tags is not None:\n",
    "            mask = (sentence != 0).bool()\n",
    "            loss = -self.crf(tag_scores, tags, mask=mask)\n",
    "            return loss\n",
    "        else:\n",
    "            best_tags = self.crf.decode(tag_scores)\n",
    "            return best_tags\n",
    "\n",
    "# Prepare data\n",
    "def prepare_data(texts, labels):\n",
    "    vocab = {'<PAD>': 0, '<UNK>': 1}\n",
    "    tag_to_idx = {'O': 0, 'entity': 1}\n",
    "\n",
    "    for text in texts:\n",
    "        for word in text.split():\n",
    "            if word not in vocab:\n",
    "                vocab[word] = len(vocab)\n",
    "\n",
    "    return vocab, tag_to_idx\n",
    "\n",
    "# Collate function for DataLoader\n",
    "def collate_fn(batch):\n",
    "    texts, labels = zip(*batch)\n",
    "    max_len = max(len(x) for x in texts)\n",
    "    padded_texts = [torch.cat([x, torch.zeros(max_len - len(x), dtype=torch.long)]) for x in texts]\n",
    "    padded_labels = [torch.cat([y, torch.zeros(max_len - len(y), dtype=torch.long)]) for y in labels]\n",
    "    return torch.stack(padded_texts), torch.stack(padded_labels)\n",
    "\n",
    "# Example data (texts and labels should be extended with more diverse data)\n",
    "\n",
    "\n",
    "# Check and align lengths of texts and labels\n",
    "for i in range(len(texts)):\n",
    "    text_length = len(texts[i].split())\n",
    "    label_length = len(labels[i])\n",
    "    if text_length != label_length:\n",
    "        raise ValueError(f\"Text and label lengths do not match at index {i}: {text_length} != {label_length}\")\n",
    "\n",
    "# Prepare vocabulary and tag_to_idx\n",
    "vocab, tag_to_idx = prepare_data(texts, labels)\n",
    "dataset = NERDataset(texts, labels, vocab, tag_to_idx)\n",
    "dataloader = DataLoader(dataset, batch_size=2, shuffle=True, collate_fn=collate_fn)\n",
    "\n",
    "# Initialize model, optimizer, and device\n",
    "device = torch.device(\"cuda\" if torch.cuda.is_available() else \"cpu\")\n",
    "model = BiLSTM_CRF(len(vocab), tag_to_idx, embedding_dim=800, hidden_dim=1024).to(device)\n",
    "optimizer = torch.optim.Adam(model.parameters(), lr=1e-4)  # Adjusted learning rate\n",
    "\n",
    "# Training loop\n",
    "num_epochs = 3000\n",
    "for epoch in range(num_epochs):\n",
    "    total_loss = 0\n",
    "    for inputs, targets in dataloader:\n",
    "        inputs, targets = inputs.to(device), targets.to(device)\n",
    "        optimizer.zero_grad()\n",
    "        loss = model(inputs, targets)\n",
    "        loss.backward()\n",
    "        optimizer.step()\n",
    "        total_loss += loss.item()\n",
    "    print(f\"Epoch {epoch+1}/{num_epochs}, Loss: {total_loss/len(dataloader):.4f}\")\n",
    "\n",
    "# Test sentence\n",
    "test_sentence = \"benim şirketim kazanacaktır, onun adı da turkcell\"\n",
    "test_tensor = torch.tensor([vocab.get(word, vocab['<UNK>']) for word in test_sentence.split()], dtype=torch.long).to(device)\n",
    "with torch.no_grad():\n",
    "    best_tags = model(test_tensor.unsqueeze(0))[0]\n",
    "\n",
    "idx_to_tag = {i: tag for tag, i in tag_to_idx.items()}\n",
    "predicted_labels = [idx_to_tag[i] for i in best_tags]\n",
    "print(\"Test cümlesi:\", test_sentence)\n",
    "print(\"Tahmin edilen etiketler:\", predicted_labels)"
   ]
  },
  {
   "cell_type": "code",
   "execution_count": 14,
   "metadata": {},
   "outputs": [
    {
     "name": "stdout",
     "output_type": "stream",
     "text": [
      "Test cümlesi: Vatan Bilgisayardan cok iyi bir Türk Telekomdan daha iyi\n",
      "Tahmin edilen etiketler: ['entity', 'entity', 'O', 'O', 'O', 'entity', 'entity', 'O', 'O']\n"
     ]
    }
   ],
   "source": [
    "test_sentence = \"Vatan Bilgisayardan cok iyi bir Türk Telekomdan daha iyi\"\n",
    "test_tensor = torch.tensor([vocab.get(word, vocab['<UNK>']) for word in test_sentence.split()], dtype=torch.long).to(device)\n",
    "with torch.no_grad():\n",
    "    best_tags = model(test_tensor.unsqueeze(0))[0]\n",
    "\n",
    "idx_to_tag = {i: tag for tag, i in tag_to_idx.items()}\n",
    "predicted_labels = [idx_to_tag[i] for i in best_tags]\n",
    "print(\"Test cümlesi:\", test_sentence)\n",
    "print(\"Tahmin edilen etiketler:\", predicted_labels)"
   ]
  },
  {
   "cell_type": "code",
   "execution_count": 21,
   "metadata": {},
   "outputs": [
    {
     "name": "stdout",
     "output_type": "stream",
     "text": [
      "Test cümlesi: bugün mediamarkt mağazasından iphone 7 plus satın aldım ama sorunlu çıktı\n",
      "Tahmin edilen etiketler: ['O', 'O', 'O', 'O', 'O', 'O', 'O', 'O', 'O', 'O', 'O']\n"
     ]
    }
   ],
   "source": [
    "test_sentence = \"bugün mediamarkt mağazasından iphone 7 plus satın aldım ama sorunlu çıktı\"\n",
    "test_tensor = torch.tensor([vocab.get(word, vocab['<UNK>']) for word in test_sentence.split()], dtype=torch.long).to(device)\n",
    "with torch.no_grad():\n",
    "    best_tags = model(test_tensor.unsqueeze(0))[0]\n",
    "\n",
    "idx_to_tag = {i: tag for tag, i in tag_to_idx.items()}\n",
    "predicted_labels = [idx_to_tag[i] for i in best_tags]\n",
    "print(\"Test cümlesi:\", test_sentence)\n",
    "print(\"Tahmin edilen etiketler:\", predicted_labels)"
   ]
  },
  {
   "cell_type": "code",
   "execution_count": 16,
   "metadata": {},
   "outputs": [],
   "source": [
    "import pickle\n",
    "pickle.dump(model,open(\"entity_cikarici.ai2\",\"wb\"))"
   ]
  },
  {
   "cell_type": "code",
   "execution_count": 22,
   "metadata": {},
   "outputs": [
    {
     "name": "stderr",
     "output_type": "stream",
     "text": [
      "/home/server/venv/lib/python3.12/site-packages/torch/storage.py:414: FutureWarning: You are using `torch.load` with `weights_only=False` (the current default value), which uses the default pickle module implicitly. It is possible to construct malicious pickle data which will execute arbitrary code during unpickling (See https://github.com/pytorch/pytorch/blob/main/SECURITY.md#untrusted-models for more details). In a future release, the default value for `weights_only` will be flipped to `True`. This limits the functions that could be executed during unpickling. Arbitrary objects will no longer be allowed to be loaded via this mode unless they are explicitly allowlisted by the user via `torch.serialization.add_safe_globals`. We recommend you start setting `weights_only=True` for any use case where you don't have full control of the loaded file. Please open an issue on GitHub for any issues related to this experimental feature.\n",
      "  return torch.load(io.BytesIO(b))\n"
     ]
    }
   ],
   "source": [
    "model2 = pickle.load(open(\"entity_cikarici.ai\",\"rb\"))"
   ]
  },
  {
   "cell_type": "code",
   "execution_count": 27,
   "metadata": {},
   "outputs": [
    {
     "name": "stdout",
     "output_type": "stream",
     "text": [
      "Test cümlesi: bugün mediamarkt mağazasından iphone 7 plus satın aldım ama sorunlu çıktı\n",
      "Tahmin edilen etiketler: ['O', 'entity', 'entity', 'entity', 'entity', 'entity', 'O', 'entity', 'O', 'O', 'O']\n"
     ]
    }
   ],
   "source": [
    "test_sentence = \"bugün mediamarkt mağazasından iphone 7 plus satın aldım ama sorunlu çıktı\"\n",
    "test_tensor = torch.tensor([vocab.get(word, vocab['<UNK>']) for word in test_sentence.split()], dtype=torch.long).to(device)\n",
    "with torch.no_grad():\n",
    "    best_tags = model2(test_tensor.unsqueeze(0))[0]\n",
    "\n",
    "idx_to_tag = {i: tag for tag, i in tag_to_idx.items()}\n",
    "predicted_labels = [idx_to_tag[i] for i in best_tags]\n",
    "print(\"Test cümlesi:\", test_sentence)\n",
    "print(\"Tahmin edilen etiketler:\", predicted_labels)"
   ]
  },
  {
   "cell_type": "code",
   "execution_count": 28,
   "metadata": {},
   "outputs": [
    {
     "name": "stdout",
     "output_type": "stream",
     "text": [
      "Collecting zemberek-python\n",
      "  Downloading zemberek_python-0.2.3-py3-none-any.whl.metadata (2.7 kB)\n",
      "Collecting antlr4-python3-runtime==4.8 (from zemberek-python)\n",
      "  Downloading antlr4-python3-runtime-4.8.tar.gz (112 kB)\n",
      "\u001b[2K     \u001b[38;2;114;156;31m━━━━━━━━━━━━━━━━━━━━━━━━━━━━━━━━━━━━━\u001b[0m \u001b[32m112.4/112.4 kB\u001b[0m \u001b[31m757.7 kB/s\u001b[0m eta \u001b[36m0:00:00\u001b[0m kB/s\u001b[0m eta \u001b[36m0:00:01\u001b[0m:01\u001b[0m\n",
      "\u001b[?25h  Preparing metadata (setup.py) ... \u001b[?25ldone\n",
      "\u001b[?25hRequirement already satisfied: numpy>=1.19.0 in /home/server/venv/lib/python3.12/site-packages (from zemberek-python) (2.0.1)\n",
      "Downloading zemberek_python-0.2.3-py3-none-any.whl (95.1 MB)\n",
      "\u001b[2K   \u001b[38;2;114;156;31m━━━━━━━━━━━━━━━━━━━━━━━━━━━━━━━━━━━━━━━━\u001b[0m \u001b[32m95.1/95.1 MB\u001b[0m \u001b[31m6.2 MB/s\u001b[0m eta \u001b[36m0:00:00\u001b[0mm eta \u001b[36m0:00:01\u001b[0m[36m0:00:01\u001b[0mm\n",
      "\u001b[?25hBuilding wheels for collected packages: antlr4-python3-runtime\n",
      "  Building wheel for antlr4-python3-runtime (setup.py) ... \u001b[?25ldone\n",
      "\u001b[?25h  Created wheel for antlr4-python3-runtime: filename=antlr4_python3_runtime-4.8-py3-none-any.whl size=141210 sha256=45b1845b0ece2bc796867045710b61abb6ee0617a75254a0fc1b3b19b08a888b\n",
      "  Stored in directory: /home/server/.cache/pip/wheels/3e/92/b7/08c6a108fc5bf6370a7540d11bbe9befc99b7e045ac7558d49\n",
      "Successfully built antlr4-python3-runtime\n",
      "Installing collected packages: antlr4-python3-runtime, zemberek-python\n",
      "Successfully installed antlr4-python3-runtime-4.8 zemberek-python-0.2.3\n"
     ]
    }
   ],
   "source": [
    "!pip install zemberek-python;"
   ]
  },
  {
   "cell_type": "code",
   "execution_count": null,
   "metadata": {},
   "outputs": [],
   "source": []
  }
 ],
 "metadata": {
  "accelerator": "GPU",
  "colab": {
   "gpuType": "T4",
   "provenance": []
  },
  "kernelspec": {
   "display_name": "Python 3 (ipykernel)",
   "language": "python",
   "name": "python3"
  },
  "language_info": {
   "codemirror_mode": {
    "name": "ipython",
    "version": 3
   },
   "file_extension": ".py",
   "mimetype": "text/x-python",
   "name": "python",
   "nbconvert_exporter": "python",
   "pygments_lexer": "ipython3",
   "version": "3.12.3"
  }
 },
 "nbformat": 4,
 "nbformat_minor": 4
}
